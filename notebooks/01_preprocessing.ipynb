{
 "cells": [
  {
   "cell_type": "code",
   "execution_count": 1,
   "metadata": {},
   "outputs": [],
   "source": [
    "DATA_PATH = \"../data/Processed/V3Explored.csv\"\n",
    "EXPORT_PATH = \"../data/Processed/V3Processed.csv\"\n",
    "REPLACED_NAME = {\n",
    "    'carpet_area': 'carpet_area_sq_ft',\n",
    "    'estimated value': 'estimated value ($)',\n",
    "    'sale price': 'sale price ($)'\n",
    "}"
   ]
  },
  {
   "cell_type": "code",
   "execution_count": 2,
   "metadata": {},
   "outputs": [],
   "source": [
    "import pandas as pd \n",
    "import numpy as np "
   ]
  },
  {
   "cell_type": "code",
   "execution_count": 3,
   "metadata": {},
   "outputs": [
    {
     "data": {
      "text/plain": [
       "(10000, 12)"
      ]
     },
     "execution_count": 3,
     "metadata": {},
     "output_type": "execute_result"
    }
   ],
   "source": [
    "df = pd.read_pickle(DATA_PATH)\n",
    "df.shape"
   ]
  },
  {
   "cell_type": "markdown",
   "metadata": {},
   "source": [
    "## Dealing with data  "
   ]
  },
  {
   "cell_type": "code",
   "execution_count": 4,
   "metadata": {},
   "outputs": [],
   "source": [
    "df['date'] = pd.to_datetime(df['date'])"
   ]
  },
  {
   "cell_type": "code",
   "execution_count": 5,
   "metadata": {},
   "outputs": [
    {
     "data": {
      "text/html": [
       "<div>\n",
       "<style scoped>\n",
       "    .dataframe tbody tr th:only-of-type {\n",
       "        vertical-align: middle;\n",
       "    }\n",
       "\n",
       "    .dataframe tbody tr th {\n",
       "        vertical-align: top;\n",
       "    }\n",
       "\n",
       "    .dataframe thead th {\n",
       "        text-align: right;\n",
       "    }\n",
       "</style>\n",
       "<table border=\"1\" class=\"dataframe\">\n",
       "  <thead>\n",
       "    <tr style=\"text-align: right;\">\n",
       "      <th></th>\n",
       "      <th>date</th>\n",
       "      <th>year</th>\n",
       "      <th>locality</th>\n",
       "      <th>estimated value</th>\n",
       "      <th>sale price</th>\n",
       "      <th>property</th>\n",
       "      <th>residential</th>\n",
       "      <th>num_rooms</th>\n",
       "      <th>num_bathrooms</th>\n",
       "      <th>carpet_area</th>\n",
       "      <th>property_tax_rate</th>\n",
       "      <th>face</th>\n",
       "    </tr>\n",
       "  </thead>\n",
       "  <tbody>\n",
       "    <tr>\n",
       "      <th>9790</th>\n",
       "      <td>2022-08-17</td>\n",
       "      <td>2022</td>\n",
       "      <td>NaN</td>\n",
       "      <td>375900.0</td>\n",
       "      <td>600000.0</td>\n",
       "      <td>?</td>\n",
       "      <td>Detached House</td>\n",
       "      <td>3</td>\n",
       "      <td>1</td>\n",
       "      <td>NaN</td>\n",
       "      <td>1.003979</td>\n",
       "      <td>West</td>\n",
       "    </tr>\n",
       "    <tr>\n",
       "      <th>2359</th>\n",
       "      <td>2012-07-26</td>\n",
       "      <td>2012</td>\n",
       "      <td>NaN</td>\n",
       "      <td>395710.0</td>\n",
       "      <td>580000.0</td>\n",
       "      <td>Single Family</td>\n",
       "      <td>Detached House</td>\n",
       "      <td>3</td>\n",
       "      <td>3</td>\n",
       "      <td>1031.0</td>\n",
       "      <td>1.021958</td>\n",
       "      <td>North</td>\n",
       "    </tr>\n",
       "    <tr>\n",
       "      <th>6996</th>\n",
       "      <td>2019-05-19</td>\n",
       "      <td>2019</td>\n",
       "      <td>Stamford</td>\n",
       "      <td>393090.0</td>\n",
       "      <td>713000.0</td>\n",
       "      <td>Single Family</td>\n",
       "      <td>Detached House</td>\n",
       "      <td>3</td>\n",
       "      <td>3</td>\n",
       "      <td>1056.0</td>\n",
       "      <td>1.025899</td>\n",
       "      <td>North</td>\n",
       "    </tr>\n",
       "  </tbody>\n",
       "</table>\n",
       "</div>"
      ],
      "text/plain": [
       "           date  year  locality  estimated value  sale price       property  \\\n",
       "9790 2022-08-17  2022       NaN         375900.0    600000.0              ?   \n",
       "2359 2012-07-26  2012       NaN         395710.0    580000.0  Single Family   \n",
       "6996 2019-05-19  2019  Stamford         393090.0    713000.0  Single Family   \n",
       "\n",
       "         residential  num_rooms  num_bathrooms  carpet_area  \\\n",
       "9790  Detached House          3              1          NaN   \n",
       "2359  Detached House          3              3       1031.0   \n",
       "6996  Detached House          3              3       1056.0   \n",
       "\n",
       "      property_tax_rate   face  \n",
       "9790           1.003979   West  \n",
       "2359           1.021958  North  \n",
       "6996           1.025899  North  "
      ]
     },
     "execution_count": 5,
     "metadata": {},
     "output_type": "execute_result"
    }
   ],
   "source": [
    "df.sample(3)"
   ]
  },
  {
   "cell_type": "code",
   "execution_count": 6,
   "metadata": {},
   "outputs": [
    {
     "data": {
      "text/plain": [
       "residential\n",
       "Detached House    8296\n",
       "Duplex            1014\n",
       "Triplex            584\n",
       "Fourplex           106\n",
       "Name: count, dtype: int64"
      ]
     },
     "execution_count": 6,
     "metadata": {},
     "output_type": "execute_result"
    }
   ],
   "source": [
    "df['residential'].value_counts()"
   ]
  },
  {
   "cell_type": "code",
   "execution_count": 7,
   "metadata": {},
   "outputs": [
    {
     "data": {
      "text/plain": [
       "date                    0\n",
       "year                    0\n",
       "locality             1255\n",
       "estimated value      1229\n",
       "sale price              0\n",
       "property                0\n",
       "residential             0\n",
       "num_rooms               0\n",
       "num_bathrooms           0\n",
       "carpet_area          1282\n",
       "property_tax_rate       0\n",
       "face                    0\n",
       "dtype: int64"
      ]
     },
     "execution_count": 7,
     "metadata": {},
     "output_type": "execute_result"
    }
   ],
   "source": [
    "df.isna().sum()"
   ]
  },
  {
   "cell_type": "code",
   "execution_count": 8,
   "metadata": {},
   "outputs": [],
   "source": [
    "def missing_values_table(df):\n",
    "     for col in df.columns:\n",
    "        print(col, df[col].nunique())"
   ]
  },
  {
   "cell_type": "code",
   "execution_count": 9,
   "metadata": {},
   "outputs": [
    {
     "name": "stdout",
     "output_type": "stream",
     "text": [
      "date 3089\n",
      "year 14\n",
      "locality 7\n",
      "estimated value 7697\n",
      "sale price 2619\n",
      "property 5\n",
      "residential 4\n",
      "num_rooms 4\n",
      "num_bathrooms 8\n",
      "carpet_area 861\n",
      "property_tax_rate 14\n",
      "face 4\n"
     ]
    }
   ],
   "source": [
    "missing_values_table(df)"
   ]
  },
  {
   "cell_type": "code",
   "execution_count": 10,
   "metadata": {},
   "outputs": [],
   "source": [
    "drop_cols = [ 'estimated value', 'carpet_area']\n",
    "for col in drop_cols:\n",
    "    df.drop(df[df[col].isnull()].index, inplace = True)"
   ]
  },
  {
   "cell_type": "code",
   "execution_count": 11,
   "metadata": {},
   "outputs": [
    {
     "name": "stdout",
     "output_type": "stream",
     "text": [
      "estimated value 6789\n",
      "carpet_area 815\n"
     ]
    }
   ],
   "source": [
    "missing_values_table(df[drop_cols])"
   ]
  },
  {
   "cell_type": "code",
   "execution_count": 12,
   "metadata": {},
   "outputs": [
    {
     "data": {
      "text/plain": [
       "date                   0\n",
       "year                   0\n",
       "locality             949\n",
       "estimated value        0\n",
       "sale price             0\n",
       "property               0\n",
       "residential            0\n",
       "num_rooms              0\n",
       "num_bathrooms          0\n",
       "carpet_area            0\n",
       "property_tax_rate      0\n",
       "face                   0\n",
       "dtype: int64"
      ]
     },
     "execution_count": 12,
     "metadata": {},
     "output_type": "execute_result"
    }
   ],
   "source": [
    "df.isna().sum()"
   ]
  },
  {
   "cell_type": "markdown",
   "metadata": {},
   "source": [
    "## Dealing with missing values"
   ]
  },
  {
   "cell_type": "code",
   "execution_count": 13,
   "metadata": {},
   "outputs": [],
   "source": [
    "df['locality'] = df['locality'].fillna('Unknown')"
   ]
  },
  {
   "cell_type": "code",
   "execution_count": 14,
   "metadata": {},
   "outputs": [],
   "source": [
    "df['property'] = df['property'].replace('?', np.nan) "
   ]
  },
  {
   "cell_type": "code",
   "execution_count": 15,
   "metadata": {},
   "outputs": [
    {
     "data": {
      "text/plain": [
       "property\n",
       "Single Family    5205\n",
       "Two Family        651\n",
       "Three Family      370\n",
       "Four Family        61\n",
       "Name: count, dtype: int64"
      ]
     },
     "execution_count": 15,
     "metadata": {},
     "output_type": "execute_result"
    }
   ],
   "source": [
    "df['property'].value_counts()"
   ]
  },
  {
   "cell_type": "code",
   "execution_count": 16,
   "metadata": {},
   "outputs": [
    {
     "name": "stdout",
     "output_type": "stream",
     "text": [
      "property\n",
      "Single Family    6326\n",
      "Two Family        772\n",
      "Three Family      453\n",
      "Four Family        78\n",
      "Name: count, dtype: int64\n"
     ]
    }
   ],
   "source": [
    "import pandas as pd\n",
    "from sklearn.ensemble import RandomForestClassifier\n",
    "from sklearn.model_selection import train_test_split\n",
    "\n",
    "# Define the features to use for prediction with normalized column names\n",
    "features = ['sale price', 'estimated value', 'carpet_area', 'num_bathrooms','num_rooms']\n",
    "\n",
    "# Separate rows with and without missing 'property' values\n",
    "df_missing = df[df['property'].isna()]\n",
    "df_not_missing = df.dropna(subset=['property'])\n",
    "\n",
    "# Prepare the data for modeling\n",
    "X = df_not_missing[features]\n",
    "y = df_not_missing['property']\n",
    "\n",
    "# Split the data for training and testing (optional, for evaluation)\n",
    "X_train, X_test, y_train, y_test = train_test_split(X, y, test_size=0.2, random_state=42)\n",
    "\n",
    "# Train the model\n",
    "model = RandomForestClassifier(random_state=42)\n",
    "model.fit(X_train, y_train)\n",
    "\n",
    "# Predict the missing 'property' values\n",
    "X_missing = df_missing[features]\n",
    "predicted_properties = model.predict(X_missing)\n",
    "\n",
    "# Fill the missing values with predictions\n",
    "df.loc[df['property'].isna(), 'property'] = predicted_properties\n",
    "\n",
    "print(df['property'].value_counts())\n"
   ]
  },
  {
   "cell_type": "code",
   "execution_count": 17,
   "metadata": {},
   "outputs": [
    {
     "data": {
      "text/plain": [
       "date                 0.0\n",
       "year                 0.0\n",
       "locality             0.0\n",
       "estimated value      0.0\n",
       "sale price           0.0\n",
       "property             0.0\n",
       "residential          0.0\n",
       "num_rooms            0.0\n",
       "num_bathrooms        0.0\n",
       "carpet_area          0.0\n",
       "property_tax_rate    0.0\n",
       "face                 0.0\n",
       "dtype: float64"
      ]
     },
     "execution_count": 17,
     "metadata": {},
     "output_type": "execute_result"
    }
   ],
   "source": [
    "df.isnull().mean()*100"
   ]
  },
  {
   "cell_type": "code",
   "execution_count": 18,
   "metadata": {},
   "outputs": [
    {
     "data": {
      "text/plain": [
       "0"
      ]
     },
     "execution_count": 18,
     "metadata": {},
     "output_type": "execute_result"
    }
   ],
   "source": [
    "df.duplicated().sum()"
   ]
  },
  {
   "cell_type": "markdown",
   "metadata": {},
   "source": [
    "## DateTime Processing\n",
    "-  Extract the monthe name from the data and add new column called monthe_name "
   ]
  },
  {
   "cell_type": "code",
   "execution_count": 19,
   "metadata": {},
   "outputs": [],
   "source": [
    "df['month_name'] = df['date'].dt.strftime('%B')"
   ]
  },
  {
   "cell_type": "code",
   "execution_count": 20,
   "metadata": {},
   "outputs": [],
   "source": [
    "# Drop the 'date' column \n",
    "df.drop(columns=['date'], inplace=True)"
   ]
  },
  {
   "cell_type": "code",
   "execution_count": 21,
   "metadata": {},
   "outputs": [
    {
     "data": {
      "text/html": [
       "<div>\n",
       "<style scoped>\n",
       "    .dataframe tbody tr th:only-of-type {\n",
       "        vertical-align: middle;\n",
       "    }\n",
       "\n",
       "    .dataframe tbody tr th {\n",
       "        vertical-align: top;\n",
       "    }\n",
       "\n",
       "    .dataframe thead th {\n",
       "        text-align: right;\n",
       "    }\n",
       "</style>\n",
       "<table border=\"1\" class=\"dataframe\">\n",
       "  <thead>\n",
       "    <tr style=\"text-align: right;\">\n",
       "      <th></th>\n",
       "      <th>year</th>\n",
       "      <th>locality</th>\n",
       "      <th>estimated value</th>\n",
       "      <th>sale price</th>\n",
       "      <th>property</th>\n",
       "      <th>residential</th>\n",
       "      <th>num_rooms</th>\n",
       "      <th>num_bathrooms</th>\n",
       "      <th>carpet_area</th>\n",
       "      <th>property_tax_rate</th>\n",
       "      <th>face</th>\n",
       "      <th>month_name</th>\n",
       "    </tr>\n",
       "  </thead>\n",
       "  <tbody>\n",
       "    <tr>\n",
       "      <th>3499</th>\n",
       "      <td>2014</td>\n",
       "      <td>Waterbury</td>\n",
       "      <td>156200.0</td>\n",
       "      <td>169900.0</td>\n",
       "      <td>Single Family</td>\n",
       "      <td>Detached House</td>\n",
       "      <td>3</td>\n",
       "      <td>1</td>\n",
       "      <td>1084.0</td>\n",
       "      <td>1.350819</td>\n",
       "      <td>South</td>\n",
       "      <td>July</td>\n",
       "    </tr>\n",
       "    <tr>\n",
       "      <th>9999</th>\n",
       "      <td>2022</td>\n",
       "      <td>Norwalk</td>\n",
       "      <td>237880.0</td>\n",
       "      <td>430000.0</td>\n",
       "      <td>Single Family</td>\n",
       "      <td>Detached House</td>\n",
       "      <td>3</td>\n",
       "      <td>1</td>\n",
       "      <td>927.0</td>\n",
       "      <td>1.003979</td>\n",
       "      <td>North</td>\n",
       "      <td>September</td>\n",
       "    </tr>\n",
       "    <tr>\n",
       "      <th>4486</th>\n",
       "      <td>2015</td>\n",
       "      <td>Unknown</td>\n",
       "      <td>339150.0</td>\n",
       "      <td>617000.0</td>\n",
       "      <td>Single Family</td>\n",
       "      <td>Detached House</td>\n",
       "      <td>3</td>\n",
       "      <td>3</td>\n",
       "      <td>934.0</td>\n",
       "      <td>1.340225</td>\n",
       "      <td>West</td>\n",
       "      <td>December</td>\n",
       "    </tr>\n",
       "  </tbody>\n",
       "</table>\n",
       "</div>"
      ],
      "text/plain": [
       "      year   locality  estimated value  sale price       property  \\\n",
       "3499  2014  Waterbury         156200.0    169900.0  Single Family   \n",
       "9999  2022    Norwalk         237880.0    430000.0  Single Family   \n",
       "4486  2015    Unknown         339150.0    617000.0  Single Family   \n",
       "\n",
       "         residential  num_rooms  num_bathrooms  carpet_area  \\\n",
       "3499  Detached House          3              1       1084.0   \n",
       "9999  Detached House          3              1        927.0   \n",
       "4486  Detached House          3              3        934.0   \n",
       "\n",
       "      property_tax_rate   face month_name  \n",
       "3499           1.350819  South       July  \n",
       "9999           1.003979  North  September  \n",
       "4486           1.340225   West   December  "
      ]
     },
     "execution_count": 21,
     "metadata": {},
     "output_type": "execute_result"
    }
   ],
   "source": [
    "df.sample(3)"
   ]
  },
  {
   "cell_type": "markdown",
   "metadata": {},
   "source": [
    "- Rename the column from 'carpet_area' to 'carpet_area_sq_ft'"
   ]
  },
  {
   "cell_type": "code",
   "execution_count": 22,
   "metadata": {},
   "outputs": [],
   "source": [
    "df.rename(columns=REPLACED_NAME, inplace=True)"
   ]
  },
  {
   "cell_type": "code",
   "execution_count": 23,
   "metadata": {},
   "outputs": [
    {
     "data": {
      "text/plain": [
       "Index(['year', 'locality', 'estimated value ($)', 'sale price ($)', 'property',\n",
       "       'residential', 'num_rooms', 'num_bathrooms', 'carpet_area_sq_ft',\n",
       "       'property_tax_rate', 'face', 'month_name'],\n",
       "      dtype='object')"
      ]
     },
     "execution_count": 23,
     "metadata": {},
     "output_type": "execute_result"
    }
   ],
   "source": [
    "df.columns"
   ]
  },
  {
   "cell_type": "markdown",
   "metadata": {},
   "source": [
    "# Calculate tax value\n"
   ]
  },
  {
   "cell_type": "code",
   "execution_count": 24,
   "metadata": {},
   "outputs": [],
   "source": [
    "df['tax_value'] = df['sale price ($)'] * df['property_tax_rate'] / 100\n"
   ]
  },
  {
   "cell_type": "code",
   "execution_count": 25,
   "metadata": {},
   "outputs": [],
   "source": [
    "# Drop the 'property_tax_rate' column \n",
    "df.drop(columns=['property_tax_rate'], inplace=True)"
   ]
  },
  {
   "cell_type": "code",
   "execution_count": 26,
   "metadata": {},
   "outputs": [
    {
     "data": {
      "text/html": [
       "<div>\n",
       "<style scoped>\n",
       "    .dataframe tbody tr th:only-of-type {\n",
       "        vertical-align: middle;\n",
       "    }\n",
       "\n",
       "    .dataframe tbody tr th {\n",
       "        vertical-align: top;\n",
       "    }\n",
       "\n",
       "    .dataframe thead th {\n",
       "        text-align: right;\n",
       "    }\n",
       "</style>\n",
       "<table border=\"1\" class=\"dataframe\">\n",
       "  <thead>\n",
       "    <tr style=\"text-align: right;\">\n",
       "      <th></th>\n",
       "      <th>year</th>\n",
       "      <th>locality</th>\n",
       "      <th>estimated value ($)</th>\n",
       "      <th>sale price ($)</th>\n",
       "      <th>property</th>\n",
       "      <th>residential</th>\n",
       "      <th>num_rooms</th>\n",
       "      <th>num_bathrooms</th>\n",
       "      <th>carpet_area_sq_ft</th>\n",
       "      <th>face</th>\n",
       "      <th>month_name</th>\n",
       "      <th>tax_value</th>\n",
       "    </tr>\n",
       "  </thead>\n",
       "  <tbody>\n",
       "    <tr>\n",
       "      <th>0</th>\n",
       "      <td>2009</td>\n",
       "      <td>Waterbury</td>\n",
       "      <td>111440.0</td>\n",
       "      <td>185000.0</td>\n",
       "      <td>Single Family</td>\n",
       "      <td>Detached House</td>\n",
       "      <td>3</td>\n",
       "      <td>3</td>\n",
       "      <td>996.0</td>\n",
       "      <td>South</td>\n",
       "      <td>January</td>\n",
       "      <td>1898.013050</td>\n",
       "    </tr>\n",
       "    <tr>\n",
       "      <th>1</th>\n",
       "      <td>2009</td>\n",
       "      <td>Unknown</td>\n",
       "      <td>73080.0</td>\n",
       "      <td>152000.0</td>\n",
       "      <td>Single Family</td>\n",
       "      <td>Detached House</td>\n",
       "      <td>3</td>\n",
       "      <td>1</td>\n",
       "      <td>935.0</td>\n",
       "      <td>North</td>\n",
       "      <td>January</td>\n",
       "      <td>1559.448560</td>\n",
       "    </tr>\n",
       "    <tr>\n",
       "      <th>2</th>\n",
       "      <td>2009</td>\n",
       "      <td>Waterbury</td>\n",
       "      <td>50540.0</td>\n",
       "      <td>105000.0</td>\n",
       "      <td>Single Family</td>\n",
       "      <td>Detached House</td>\n",
       "      <td>3</td>\n",
       "      <td>1</td>\n",
       "      <td>951.0</td>\n",
       "      <td>East</td>\n",
       "      <td>January</td>\n",
       "      <td>1077.250650</td>\n",
       "    </tr>\n",
       "    <tr>\n",
       "      <th>4</th>\n",
       "      <td>2009</td>\n",
       "      <td>Bridgeport</td>\n",
       "      <td>4775276.0</td>\n",
       "      <td>272900.0</td>\n",
       "      <td>Single Family</td>\n",
       "      <td>Detached House</td>\n",
       "      <td>3</td>\n",
       "      <td>1</td>\n",
       "      <td>971.0</td>\n",
       "      <td>East</td>\n",
       "      <td>January</td>\n",
       "      <td>2799.825737</td>\n",
       "    </tr>\n",
       "    <tr>\n",
       "      <th>7</th>\n",
       "      <td>2009</td>\n",
       "      <td>Norwalk</td>\n",
       "      <td>172620.0</td>\n",
       "      <td>409000.0</td>\n",
       "      <td>Single Family</td>\n",
       "      <td>Detached House</td>\n",
       "      <td>3</td>\n",
       "      <td>3</td>\n",
       "      <td>1004.0</td>\n",
       "      <td>South</td>\n",
       "      <td>January</td>\n",
       "      <td>4196.147770</td>\n",
       "    </tr>\n",
       "    <tr>\n",
       "      <th>...</th>\n",
       "      <td>...</td>\n",
       "      <td>...</td>\n",
       "      <td>...</td>\n",
       "      <td>...</td>\n",
       "      <td>...</td>\n",
       "      <td>...</td>\n",
       "      <td>...</td>\n",
       "      <td>...</td>\n",
       "      <td>...</td>\n",
       "      <td>...</td>\n",
       "      <td>...</td>\n",
       "      <td>...</td>\n",
       "    </tr>\n",
       "    <tr>\n",
       "      <th>9994</th>\n",
       "      <td>2022</td>\n",
       "      <td>Unknown</td>\n",
       "      <td>216420.0</td>\n",
       "      <td>415000.0</td>\n",
       "      <td>Single Family</td>\n",
       "      <td>Detached House</td>\n",
       "      <td>3</td>\n",
       "      <td>3</td>\n",
       "      <td>1014.0</td>\n",
       "      <td>North</td>\n",
       "      <td>September</td>\n",
       "      <td>4166.512850</td>\n",
       "    </tr>\n",
       "    <tr>\n",
       "      <th>9995</th>\n",
       "      <td>2022</td>\n",
       "      <td>Unknown</td>\n",
       "      <td>155550.0</td>\n",
       "      <td>215000.0</td>\n",
       "      <td>Three Family</td>\n",
       "      <td>Triplex</td>\n",
       "      <td>6</td>\n",
       "      <td>5</td>\n",
       "      <td>2114.0</td>\n",
       "      <td>North</td>\n",
       "      <td>September</td>\n",
       "      <td>2158.554850</td>\n",
       "    </tr>\n",
       "    <tr>\n",
       "      <th>9997</th>\n",
       "      <td>2022</td>\n",
       "      <td>West Hartford</td>\n",
       "      <td>124740.0</td>\n",
       "      <td>225635.0</td>\n",
       "      <td>Single Family</td>\n",
       "      <td>Detached House</td>\n",
       "      <td>3</td>\n",
       "      <td>1</td>\n",
       "      <td>922.0</td>\n",
       "      <td>North</td>\n",
       "      <td>September</td>\n",
       "      <td>2265.328017</td>\n",
       "    </tr>\n",
       "    <tr>\n",
       "      <th>9998</th>\n",
       "      <td>2022</td>\n",
       "      <td>Unknown</td>\n",
       "      <td>1455230.0</td>\n",
       "      <td>2625000.0</td>\n",
       "      <td>Single Family</td>\n",
       "      <td>Detached House</td>\n",
       "      <td>3</td>\n",
       "      <td>2</td>\n",
       "      <td>977.0</td>\n",
       "      <td>North</td>\n",
       "      <td>September</td>\n",
       "      <td>26354.448750</td>\n",
       "    </tr>\n",
       "    <tr>\n",
       "      <th>9999</th>\n",
       "      <td>2022</td>\n",
       "      <td>Norwalk</td>\n",
       "      <td>237880.0</td>\n",
       "      <td>430000.0</td>\n",
       "      <td>Single Family</td>\n",
       "      <td>Detached House</td>\n",
       "      <td>3</td>\n",
       "      <td>1</td>\n",
       "      <td>927.0</td>\n",
       "      <td>North</td>\n",
       "      <td>September</td>\n",
       "      <td>4317.109700</td>\n",
       "    </tr>\n",
       "  </tbody>\n",
       "</table>\n",
       "<p>7629 rows × 12 columns</p>\n",
       "</div>"
      ],
      "text/plain": [
       "      year       locality  estimated value ($)  sale price ($)       property  \\\n",
       "0     2009      Waterbury             111440.0        185000.0  Single Family   \n",
       "1     2009        Unknown              73080.0        152000.0  Single Family   \n",
       "2     2009      Waterbury              50540.0        105000.0  Single Family   \n",
       "4     2009     Bridgeport            4775276.0        272900.0  Single Family   \n",
       "7     2009        Norwalk             172620.0        409000.0  Single Family   \n",
       "...    ...            ...                  ...             ...            ...   \n",
       "9994  2022        Unknown             216420.0        415000.0  Single Family   \n",
       "9995  2022        Unknown             155550.0        215000.0   Three Family   \n",
       "9997  2022  West Hartford             124740.0        225635.0  Single Family   \n",
       "9998  2022        Unknown            1455230.0       2625000.0  Single Family   \n",
       "9999  2022        Norwalk             237880.0        430000.0  Single Family   \n",
       "\n",
       "         residential  num_rooms  num_bathrooms  carpet_area_sq_ft   face  \\\n",
       "0     Detached House          3              3              996.0  South   \n",
       "1     Detached House          3              1              935.0  North   \n",
       "2     Detached House          3              1              951.0   East   \n",
       "4     Detached House          3              1              971.0   East   \n",
       "7     Detached House          3              3             1004.0  South   \n",
       "...              ...        ...            ...                ...    ...   \n",
       "9994  Detached House          3              3             1014.0  North   \n",
       "9995         Triplex          6              5             2114.0  North   \n",
       "9997  Detached House          3              1              922.0  North   \n",
       "9998  Detached House          3              2              977.0  North   \n",
       "9999  Detached House          3              1              927.0  North   \n",
       "\n",
       "     month_name     tax_value  \n",
       "0       January   1898.013050  \n",
       "1       January   1559.448560  \n",
       "2       January   1077.250650  \n",
       "4       January   2799.825737  \n",
       "7       January   4196.147770  \n",
       "...         ...           ...  \n",
       "9994  September   4166.512850  \n",
       "9995  September   2158.554850  \n",
       "9997  September   2265.328017  \n",
       "9998  September  26354.448750  \n",
       "9999  September   4317.109700  \n",
       "\n",
       "[7629 rows x 12 columns]"
      ]
     },
     "execution_count": 26,
     "metadata": {},
     "output_type": "execute_result"
    }
   ],
   "source": [
    "df"
   ]
  },
  {
   "cell_type": "markdown",
   "metadata": {},
   "source": [
    "# Export Data "
   ]
  },
  {
   "cell_type": "code",
   "execution_count": 27,
   "metadata": {},
   "outputs": [],
   "source": [
    "df.to_pickle(EXPORT_PATH)"
   ]
  }
 ],
 "metadata": {
  "kernelspec": {
   "display_name": "Python 3",
   "language": "python",
   "name": "python3"
  },
  "language_info": {
   "codemirror_mode": {
    "name": "ipython",
    "version": 3
   },
   "file_extension": ".py",
   "mimetype": "text/x-python",
   "name": "python",
   "nbconvert_exporter": "python",
   "pygments_lexer": "ipython3",
   "version": "3.11.8"
  }
 },
 "nbformat": 4,
 "nbformat_minor": 2
}
